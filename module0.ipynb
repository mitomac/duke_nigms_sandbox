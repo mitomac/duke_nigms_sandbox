{
 "cells": [
  {
   "cell_type": "markdown",
   "id": "8eb84654-456c-4043-96b4-0e18ddb1e34a",
   "metadata": {},
   "source": [
    "## Using LLMs as Coding Assistants in Jupyter Notebooks\n",
    "\n",
    "Large Language Models (LLMs) like Google's Gemini have revolutionized how we approach coding in interactive environments like Jupyter notebooks. These AI assistants can help with:\n",
    "\n",
    "- **Code generation**: Create working code snippets based on your instructions\n",
    "- **Debugging assistance**: Identify and fix errors in your existing code\n",
    "- **Documentation**: Generate explanations and documentation for complex functions\n",
    "- **Data analysis guidance**: Suggest methods for exploring and visualizing your data\n",
    "- **Learning support**: Explain programming concepts and syntax\n",
    "\n",
    "By integrating an LLM into your Jupyter workflow, you can significantly accelerate development, overcome coding challenges, and learn new techniques on the fly. The Jupyter AI extension provides a seamless way to interact with these powerful models directly within your notebook environment."
   ]
  },
  {
   "cell_type": "markdown",
   "id": "5180aff9-8c9d-413f-92e6-ef5ab5488758",
   "metadata": {},
   "source": [
    "## 1. Install Required Packages"
   ]
  },
  {
   "cell_type": "code",
   "execution_count": null,
   "id": "ef1ab765-492d-45aa-b0d4-148ddf7f9dff",
   "metadata": {},
   "outputs": [],
   "source": [
    "%%capture\n",
    "!pip install git+https://github.com/NIGMS/NIGMS-Sandbox-Repository-Template.git#subdirectory=llm_integrations;\n",
    "!python setup.py;\n",
    "!pip install google.generativeai;\n"
   ]
  },
  {
   "cell_type": "markdown",
   "id": "caeab505-f969-410c-b65f-89c4282b8994",
   "metadata": {},
   "source": [
    "## 2. Generate API Key"
   ]
  },
  {
   "cell_type": "code",
   "execution_count": null,
   "id": "c2de6a46-71d1-4a68-b91f-f13a3a89c8af",
   "metadata": {},
   "outputs": [],
   "source": [
    "import gemini_helper.build as builder\n",
    "import google.generativeai as genai\n",
    "key = builder.get_api_key()\n",
    "print(\"Here is your Gemini key used to activate the jupyter llm helper: \\n\\n\", key)"
   ]
  },
  {
   "cell_type": "markdown",
   "id": "56f2d1eb-fa09-479a-8516-fab4a3c5ad8d",
   "metadata": {},
   "source": [
    "## 3. Configure Jupyter AI Extension\n",
    "\n",
    "Now that you have your API key, follow these steps to add it to the Jupyter AI extension:\n",
    "\n",
    "1. Click on the AI icon in the left sidebar|\n",
    "   \n",
    "   ![Start AI Assistant](assets/img/image-20250127202922005.png)\n",
    "   \n",
    "2. Select a Google Gemini model from the dropdown\n",
    "   \n",
    "   ![Select Gemini Model](assets/img/image-20250127202818547.png)\n",
    "\n",
    "3. Paste your API key when prompted\n",
    "\n",
    "4. Start using the AI assistant in your notebook!"
   ]
  },
  {
   "cell_type": "code",
   "execution_count": null,
   "id": "7d4544f9-f965-4685-89b5-470928739eb6",
   "metadata": {},
   "outputs": [],
   "source": []
  }
 ],
 "metadata": {},
 "nbformat": 4,
 "nbformat_minor": 5
}
